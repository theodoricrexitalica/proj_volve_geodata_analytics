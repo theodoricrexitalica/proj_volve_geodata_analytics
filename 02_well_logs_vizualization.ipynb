{
 "cells": [
  {
   "cell_type": "markdown",
   "metadata": {},
   "source": [
    "# Libs"
   ]
  },
  {
   "cell_type": "code",
   "execution_count": 1,
   "metadata": {},
   "outputs": [],
   "source": [
    "import warnings\n",
    "warnings.filterwarnings('ignore', category=DeprecationWarning)\n",
    "\n",
    "import pandas as pd\n",
    "import numpy as np\n",
    "import matplotlib.pyplot as plt\n",
    "import seaborn as sns\n",
    "from tqdm import tqdm\n",
    "\n",
    "import os\n",
    "import glob\n",
    "import lasio\n",
    "import dlisio as dlis\n",
    "\n",
    "pd.options.display.max_columns = 10\n",
    "pd.options.display.precision = 5\n",
    "pd.options.display.max_colwidth = 30\n",
    "pd.options.display.max_rows = 6"
   ]
  },
  {
   "cell_type": "markdown",
   "metadata": {},
   "source": [
    "# Data uploading"
   ]
  },
  {
   "cell_type": "code",
   "execution_count": 12,
   "metadata": {},
   "outputs": [],
   "source": [
    "well_logs = pd.read_parquet('Project/input/interp_logs_input.parquet')\n",
    "pp_eval = pd.read_parquet('Project/input/interp_logs_output.parquet')\n",
    "well_data = well_logs.set_index(['well', 'depth']).join(pp_eval.set_index(['well', 'depth']), rsuffix='_pp').reset_index()"
   ]
  },
  {
   "cell_type": "code",
   "execution_count": 13,
   "metadata": {},
   "outputs": [
    {
     "data": {
      "text/plain": [
       "Index(['well', 'depth', 'bs', 'cali', 'gr', 'rhob', 'drho', 'pef', 'nphi',\n",
       "       'rt', 'dt', 'dts', 'rs', 'rm', 'rd', 'rop', 'rop5_rm', 'carb_flag',\n",
       "       'coal_flag', 'sand_flag', 'abdcqf01', 'abdcqf02', 'abdcqf03',\n",
       "       'abdcqf04', 'nbgrcfm', 'racehm', 'racelm', 'rpcehm', 'rpcelm',\n",
       "       'baddata_flag', 'sand_flag_pp', 'vsh', 'phif', 'klogh', 'sw', 'bvw',\n",
       "       'vcarb', 'carb_flag_pp', 'coal_flag_pp'],\n",
       "      dtype='object')"
      ]
     },
     "execution_count": 13,
     "metadata": {},
     "output_type": "execute_result"
    }
   ],
   "source": [
    "well_data.columns"
   ]
  },
  {
   "cell_type": "code",
   "execution_count": null,
   "metadata": {},
   "outputs": [],
   "source": [
    "# https://medium.com/@sarmadafzalj/python-plot-composite-oil-and-gas-petrophysical-logs-using-matplotlib-4ee28fc61ff8\n",
    "# plt plot for well logs above"
   ]
  },
  {
   "cell_type": "code",
   "execution_count": null,
   "metadata": {},
   "outputs": [],
   "source": []
  },
  {
   "cell_type": "code",
   "execution_count": null,
   "metadata": {},
   "outputs": [],
   "source": []
  }
 ],
 "metadata": {
  "kernelspec": {
   "display_name": "Python 3",
   "language": "python",
   "name": "python3"
  },
  "language_info": {
   "codemirror_mode": {
    "name": "ipython",
    "version": 3
   },
   "file_extension": ".py",
   "mimetype": "text/x-python",
   "name": "python",
   "nbconvert_exporter": "python",
   "pygments_lexer": "ipython3",
   "version": "3.11.5"
  }
 },
 "nbformat": 4,
 "nbformat_minor": 2
}
