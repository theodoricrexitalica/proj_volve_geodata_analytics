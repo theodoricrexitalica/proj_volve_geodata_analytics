{
 "cells": [
  {
   "cell_type": "code",
   "execution_count": 19,
   "metadata": {},
   "outputs": [],
   "source": [
    "import warnings\n",
    "warnings.filterwarnings('ignore', category=DeprecationWarning)\n",
    "\n",
    "import pandas as pd\n",
    "import numpy as np\n",
    "import matplotlib.pyplot as plt\n",
    "import seaborn as sns\n",
    "from tqdm import tqdm\n",
    "\n",
    "import os\n",
    "import glob\n",
    "import lasio\n",
    "import dlisio as dlis\n",
    "\n",
    "pd.options.display.max_columns = 10\n",
    "pd.options.display.precision = 5\n",
    "pd.options.display.max_colwidth = 30\n",
    "pd.options.display.max_rows = 6"
   ]
  },
  {
   "cell_type": "code",
   "execution_count": 3,
   "metadata": {},
   "outputs": [
    {
     "data": {
      "text/plain": [
       "array(['05.PETROPHYSICAL INTERPRETATION', '06.LFP', '13.GEOCHEM',\n",
       "       '04.COMPOSITE', '03.PRESSURE', '02.LWD_EWL', '01.MUD_LOG',\n",
       "       '10.PRODUCTION LOGS', '11. INTEGRITY LOGS', '07.IMAGE',\n",
       "       '08.VSP_VELOCITY', '12.BIOSTRAT'], dtype=object)"
      ]
     },
     "execution_count": 3,
     "metadata": {},
     "output_type": "execute_result"
    }
   ],
   "source": [
    "root_folder = r'C:\\jupyter\\volve_wells\\Well_logs_pr_WELL'\n",
    "las_files = []\n",
    "\n",
    "for dirpath, dirnames, filenames in os.walk(root_folder):\n",
    "    for filename in filenames:\n",
    "        if filename.endswith('.las'):\n",
    "            las_files.append(os.path.join(dirpath, filename))\n",
    "        if filename.endswith('.LAS'):\n",
    "            las_files.append(os.path.join(dirpath, filename))\n",
    "        if filename.endswith('.dlis'):\n",
    "            las_files.append(os.path.join(dirpath, filename))\n",
    "        if filename.endswith('.DLIS'):\n",
    "            las_files.append(os.path.join(dirpath, filename))\n",
    "\n",
    "df_lst = []\n",
    "for las_file in las_files:\n",
    "    df_files = pd.DataFrame((las_file.split('\\\\')[4:])).T\n",
    "    df_lst.append(df_files)\n",
    "df_files = pd.concat(df_lst).reset_index(drop=True)\n",
    "df_files.columns = ['well','folder','path_1', 'path_2']\n",
    "df_files.sort_values(by='well', inplace=True)\n",
    "df_files.folder.unique()"
   ]
  },
  {
   "cell_type": "code",
   "execution_count": 4,
   "metadata": {},
   "outputs": [],
   "source": [
    "cpi_files = df_files[(df_files.folder == '05.PETROPHYSICAL INTERPRETATION') & \n",
    "                     (df_files.path_1 == 'CPI')].reset_index(drop=True)\n",
    "interp_files = df_files[(df_files.folder == '05.PETROPHYSICAL INTERPRETATION') & \n",
    "                        (df_files.path_1 != 'CPI') & (df_files.path_2.isna())].reset_index(drop=True)"
   ]
  },
  {
   "cell_type": "code",
   "execution_count": 5,
   "metadata": {},
   "outputs": [],
   "source": [
    "pp_files_wells = np.hstack((cpi_files.well.unique(), interp_files.well.unique()))"
   ]
  },
  {
   "cell_type": "code",
   "execution_count": 6,
   "metadata": {},
   "outputs": [],
   "source": [
    "one_more_files = df_files[~df_files.well.isin(pp_files_wells)].reset_index(drop=True)"
   ]
  },
  {
   "cell_type": "code",
   "execution_count": 7,
   "metadata": {},
   "outputs": [
    {
     "data": {
      "text/plain": [
       "array(['15_9-F-7', '15_9-F-9', '15_9-F-9 A'], dtype=object)"
      ]
     },
     "execution_count": 7,
     "metadata": {},
     "output_type": "execute_result"
    }
   ],
   "source": [
    "one_more_files.well.unique()"
   ]
  },
  {
   "cell_type": "code",
   "execution_count": 8,
   "metadata": {},
   "outputs": [
    {
     "data": {
      "text/html": [
       "<div>\n",
       "<style scoped>\n",
       "    .dataframe tbody tr th:only-of-type {\n",
       "        vertical-align: middle;\n",
       "    }\n",
       "\n",
       "    .dataframe tbody tr th {\n",
       "        vertical-align: top;\n",
       "    }\n",
       "\n",
       "    .dataframe thead th {\n",
       "        text-align: right;\n",
       "    }\n",
       "</style>\n",
       "<table border=\"1\" class=\"dataframe\">\n",
       "  <thead>\n",
       "    <tr style=\"text-align: right;\">\n",
       "      <th></th>\n",
       "      <th>well</th>\n",
       "      <th>folder</th>\n",
       "      <th>path_1</th>\n",
       "      <th>path_2</th>\n",
       "    </tr>\n",
       "  </thead>\n",
       "  <tbody>\n",
       "    <tr>\n",
       "      <th>1</th>\n",
       "      <td>15_9-F-7</td>\n",
       "      <td>04.COMPOSITE</td>\n",
       "      <td>WLC_PETROPHYSICAL_COMPOSIT...</td>\n",
       "      <td>NaN</td>\n",
       "    </tr>\n",
       "    <tr>\n",
       "      <th>9</th>\n",
       "      <td>15_9-F-9</td>\n",
       "      <td>04.COMPOSITE</td>\n",
       "      <td>WLC_PETROPHYSICAL_COMPOSIT...</td>\n",
       "      <td>NaN</td>\n",
       "    </tr>\n",
       "    <tr>\n",
       "      <th>22</th>\n",
       "      <td>15_9-F-9 A</td>\n",
       "      <td>04.COMPOSITE</td>\n",
       "      <td>WLC_PETROPHYSICAL_COMPOSIT...</td>\n",
       "      <td>NaN</td>\n",
       "    </tr>\n",
       "  </tbody>\n",
       "</table>\n",
       "</div>"
      ],
      "text/plain": [
       "          well        folder                         path_1 path_2\n",
       "1     15_9-F-7  04.COMPOSITE  WLC_PETROPHYSICAL_COMPOSIT...    NaN\n",
       "9     15_9-F-9  04.COMPOSITE  WLC_PETROPHYSICAL_COMPOSIT...    NaN\n",
       "22  15_9-F-9 A  04.COMPOSITE  WLC_PETROPHYSICAL_COMPOSIT...    NaN"
      ]
     },
     "execution_count": 8,
     "metadata": {},
     "output_type": "execute_result"
    }
   ],
   "source": [
    "one_more_files[one_more_files.path_1.str.contains('PETROPHYSICAL_COMPOSITE')]"
   ]
  },
  {
   "cell_type": "code",
   "execution_count": 9,
   "metadata": {},
   "outputs": [
    {
     "name": "stderr",
     "output_type": "stream",
     "text": [
      "Only engine='normal' can read wrapped files\n"
     ]
    },
    {
     "data": {
      "text/html": [
       "<div>\n",
       "<style scoped>\n",
       "    .dataframe tbody tr th:only-of-type {\n",
       "        vertical-align: middle;\n",
       "    }\n",
       "\n",
       "    .dataframe tbody tr th {\n",
       "        vertical-align: top;\n",
       "    }\n",
       "\n",
       "    .dataframe thead th {\n",
       "        text-align: right;\n",
       "    }\n",
       "</style>\n",
       "<table border=\"1\" class=\"dataframe\">\n",
       "  <thead>\n",
       "    <tr style=\"text-align: right;\">\n",
       "      <th></th>\n",
       "      <th>WELL</th>\n",
       "      <th>DEPTH</th>\n",
       "      <th>BS</th>\n",
       "      <th>BVW</th>\n",
       "      <th>CARB_FLAG</th>\n",
       "      <th>...</th>\n",
       "      <th>TEMP</th>\n",
       "      <th>VSH</th>\n",
       "      <th>KLOGV</th>\n",
       "      <th>BWV</th>\n",
       "      <th>DT</th>\n",
       "    </tr>\n",
       "  </thead>\n",
       "  <tbody>\n",
       "    <tr>\n",
       "      <th>0</th>\n",
       "      <td>15_9-19 A</td>\n",
       "      <td>3666.5916</td>\n",
       "      <td>8.5</td>\n",
       "      <td>0.11170</td>\n",
       "      <td>0.0</td>\n",
       "      <td>...</td>\n",
       "      <td>112.7249</td>\n",
       "      <td>0.59880</td>\n",
       "      <td>NaN</td>\n",
       "      <td>NaN</td>\n",
       "      <td>NaN</td>\n",
       "    </tr>\n",
       "    <tr>\n",
       "      <th>1</th>\n",
       "      <td>15_9-19 A</td>\n",
       "      <td>3666.7440</td>\n",
       "      <td>8.5</td>\n",
       "      <td>0.11224</td>\n",
       "      <td>0.0</td>\n",
       "      <td>...</td>\n",
       "      <td>112.7285</td>\n",
       "      <td>0.59955</td>\n",
       "      <td>NaN</td>\n",
       "      <td>NaN</td>\n",
       "      <td>NaN</td>\n",
       "    </tr>\n",
       "    <tr>\n",
       "      <th>2</th>\n",
       "      <td>15_9-19 A</td>\n",
       "      <td>3666.8964</td>\n",
       "      <td>8.5</td>\n",
       "      <td>0.11482</td>\n",
       "      <td>0.0</td>\n",
       "      <td>...</td>\n",
       "      <td>112.7321</td>\n",
       "      <td>0.60031</td>\n",
       "      <td>NaN</td>\n",
       "      <td>NaN</td>\n",
       "      <td>NaN</td>\n",
       "    </tr>\n",
       "    <tr>\n",
       "      <th>...</th>\n",
       "      <td>...</td>\n",
       "      <td>...</td>\n",
       "      <td>...</td>\n",
       "      <td>...</td>\n",
       "      <td>...</td>\n",
       "      <td>...</td>\n",
       "      <td>...</td>\n",
       "      <td>...</td>\n",
       "      <td>...</td>\n",
       "      <td>...</td>\n",
       "      <td>...</td>\n",
       "    </tr>\n",
       "    <tr>\n",
       "      <th>13180</th>\n",
       "      <td>15_9-19 S&amp;SR</td>\n",
       "      <td>4618.0248</td>\n",
       "      <td>NaN</td>\n",
       "      <td>NaN</td>\n",
       "      <td>NaN</td>\n",
       "      <td>...</td>\n",
       "      <td>NaN</td>\n",
       "      <td>NaN</td>\n",
       "      <td>NaN</td>\n",
       "      <td>0.0</td>\n",
       "      <td>40.0</td>\n",
       "    </tr>\n",
       "    <tr>\n",
       "      <th>13181</th>\n",
       "      <td>15_9-19 S&amp;SR</td>\n",
       "      <td>4618.1772</td>\n",
       "      <td>NaN</td>\n",
       "      <td>NaN</td>\n",
       "      <td>NaN</td>\n",
       "      <td>...</td>\n",
       "      <td>NaN</td>\n",
       "      <td>NaN</td>\n",
       "      <td>NaN</td>\n",
       "      <td>0.0</td>\n",
       "      <td>40.0</td>\n",
       "    </tr>\n",
       "    <tr>\n",
       "      <th>13182</th>\n",
       "      <td>15_9-19 S&amp;SR</td>\n",
       "      <td>4618.3296</td>\n",
       "      <td>NaN</td>\n",
       "      <td>NaN</td>\n",
       "      <td>NaN</td>\n",
       "      <td>...</td>\n",
       "      <td>NaN</td>\n",
       "      <td>NaN</td>\n",
       "      <td>NaN</td>\n",
       "      <td>NaN</td>\n",
       "      <td>40.0</td>\n",
       "    </tr>\n",
       "  </tbody>\n",
       "</table>\n",
       "<p>13183 rows × 28 columns</p>\n",
       "</div>"
      ],
      "text/plain": [
       "               WELL      DEPTH   BS      BVW  CARB_FLAG  ...      TEMP  \\\n",
       "0         15_9-19 A  3666.5916  8.5  0.11170        0.0  ...  112.7249   \n",
       "1         15_9-19 A  3666.7440  8.5  0.11224        0.0  ...  112.7285   \n",
       "2         15_9-19 A  3666.8964  8.5  0.11482        0.0  ...  112.7321   \n",
       "...             ...        ...  ...      ...        ...  ...       ...   \n",
       "13180  15_9-19 S&SR  4618.0248  NaN      NaN        NaN  ...       NaN   \n",
       "13181  15_9-19 S&SR  4618.1772  NaN      NaN        NaN  ...       NaN   \n",
       "13182  15_9-19 S&SR  4618.3296  NaN      NaN        NaN  ...       NaN   \n",
       "\n",
       "           VSH  KLOGV  BWV    DT  \n",
       "0      0.59880    NaN  NaN   NaN  \n",
       "1      0.59955    NaN  NaN   NaN  \n",
       "2      0.60031    NaN  NaN   NaN  \n",
       "...        ...    ...  ...   ...  \n",
       "13180      NaN    NaN  0.0  40.0  \n",
       "13181      NaN    NaN  0.0  40.0  \n",
       "13182      NaN    NaN  NaN  40.0  \n",
       "\n",
       "[13183 rows x 28 columns]"
      ]
     },
     "execution_count": 9,
     "metadata": {},
     "output_type": "execute_result"
    }
   ],
   "source": [
    "las_data = []\n",
    "for i in range(len(cpi_files)):\n",
    "    full_path = os.path.join(root_folder, cpi_files.well[i], cpi_files.folder[i], cpi_files.path_1[i], cpi_files.path_2[i])\n",
    "    las = lasio.read(full_path)\n",
    "    df = las.df()\n",
    "    df['WELL'] = cpi_files.well[i]\n",
    "    las_data.append(df)\n",
    "cpi_data = pd.concat(las_data).reset_index()\n",
    "cpi_data = cpi_data[['WELL', 'DEPTH', 'BS', 'BVW', 'CARB_FLAG', 'COAL_FLAG', 'DELTA', 'GRMAX',\n",
    "                    'GRMIN', 'J', 'KLHC_INT', 'KLOGH', 'M', 'N', 'PERF_FLAG', 'PHIF',\n",
    "                    'PORD', 'RHOFL', 'RHOMA', 'RW', 'SAND_FLAG', 'SW', 'SWIRR', 'TEMP',\n",
    "                    'VSH',  'KLOGV', 'BWV', 'DT']]\n",
    "cpi_data"
   ]
  },
  {
   "cell_type": "code",
   "execution_count": 10,
   "metadata": {},
   "outputs": [],
   "source": [
    "interp_files_input = []\n",
    "interp_files_output = []\n",
    "for idx, row in interp_files.iterrows():\n",
    "    if 'INPUT' in row['path_1']:\n",
    "        interp_files_input.append(interp_files.iloc[idx])\n",
    "    if 'OUTPUT' in row['path_1']:\n",
    "        interp_files_output.append(interp_files.iloc[idx])\n",
    "interp_files_input = pd.DataFrame(interp_files_input).reset_index(drop=True)\n",
    "interp_files_output = pd.DataFrame(interp_files_output).reset_index(drop=True)"
   ]
  },
  {
   "cell_type": "code",
   "execution_count": 11,
   "metadata": {},
   "outputs": [
    {
     "name": "stderr",
     "output_type": "stream",
     "text": [
      "100%|██████████| 18/18 [00:04<00:00,  3.62it/s]\n"
     ]
    }
   ],
   "source": [
    "las_data = []\n",
    "las_file_err = []\n",
    "for i in tqdm(range(len(interp_files_input))):\n",
    "    full_path = os.path.join(root_folder, interp_files_input.well[i], interp_files_input.folder[i], interp_files_input.path_1[i])\n",
    "    if 'las' in full_path or 'LAS' in full_path:\n",
    "        las = lasio.read(full_path)\n",
    "        df = las.df()\n",
    "        df['WELL'] = interp_files_input.well[i]\n",
    "        las_data.append(df)\n",
    "    else:\n",
    "        las_file_err.append(full_path)\n",
    "interp_data_input = pd.concat(las_data).reset_index()\n",
    "interp_data_input = interp_data_input[[ 'WELL', 'DEPTH', 'ABDCQF01', 'ABDCQF02', 'ABDCQF03', 'ABDCQF04', 'BS', 'CALI',\n",
    "                                        'DRHO', 'DT', 'GR', 'NPHI', 'PEF', 'RACEHM', 'RACELM', 'RD', 'RHOB',\n",
    "                                        'RM', 'ROP', 'RPCEHM', 'RPCELM', 'RT',  'DTS', 'NBGRCFM',\n",
    "                                        'CARB_FLAG', 'COAL_FLAG', 'ROP5_RM', 'RS', 'SAND_FLAG']]"
   ]
  },
  {
   "cell_type": "code",
   "execution_count": 12,
   "metadata": {},
   "outputs": [
    {
     "data": {
      "text/plain": [
       "['C:\\\\jupyter\\\\volve_wells\\\\Well_logs_pr_WELL\\\\15_9-F-10\\\\05.PETROPHYSICAL INTERPRETATION\\\\WLC_PETRO_COMPUTED_INPUT_1.DLIS',\n",
       " 'C:\\\\jupyter\\\\volve_wells\\\\Well_logs_pr_WELL\\\\15_9-F-14\\\\05.PETROPHYSICAL INTERPRETATION\\\\WLC_PETRO_COMPUTED_INPUT_1.DLIS',\n",
       " 'C:\\\\jupyter\\\\volve_wells\\\\Well_logs_pr_WELL\\\\15_9-F-15\\\\05.PETROPHYSICAL INTERPRETATION\\\\WLC_PETRO_COMPUTED_INPUT_1.DLIS',\n",
       " 'C:\\\\jupyter\\\\volve_wells\\\\Well_logs_pr_WELL\\\\15_9-F-15 A\\\\05.PETROPHYSICAL INTERPRETATION\\\\WLC_PETRO_COMPUTED_INPUT_1.DLIS',\n",
       " 'C:\\\\jupyter\\\\volve_wells\\\\Well_logs_pr_WELL\\\\15_9-F-15 B\\\\05.PETROPHYSICAL INTERPRETATION\\\\WLC_PETRO_COMPUTED_INPUT_1.DLIS',\n",
       " 'C:\\\\jupyter\\\\volve_wells\\\\Well_logs_pr_WELL\\\\15_9-F-15 C\\\\05.PETROPHYSICAL INTERPRETATION\\\\WLC_PETRO_COMPUTED_INPUT_1.DLIS',\n",
       " 'C:\\\\jupyter\\\\volve_wells\\\\Well_logs_pr_WELL\\\\15_9-F-4\\\\05.PETROPHYSICAL INTERPRETATION\\\\WLC_PETRO_COMPUTED_INPUT_1.DLIS',\n",
       " 'C:\\\\jupyter\\\\volve_wells\\\\Well_logs_pr_WELL\\\\15_9-F-5\\\\05.PETROPHYSICAL INTERPRETATION\\\\WLC_PETRO_COMPUTED_INPUT_1.DLIS']"
      ]
     },
     "execution_count": 12,
     "metadata": {},
     "output_type": "execute_result"
    }
   ],
   "source": [
    "las_file_err"
   ]
  },
  {
   "cell_type": "code",
   "execution_count": 13,
   "metadata": {},
   "outputs": [
    {
     "data": {
      "text/plain": [
       "10"
      ]
     },
     "execution_count": 13,
     "metadata": {},
     "output_type": "execute_result"
    }
   ],
   "source": [
    "len(interp_data_input.WELL.unique())"
   ]
  },
  {
   "cell_type": "code",
   "execution_count": 17,
   "metadata": {},
   "outputs": [
    {
     "data": {
      "text/plain": [
       "18"
      ]
     },
     "execution_count": 17,
     "metadata": {},
     "output_type": "execute_result"
    }
   ],
   "source": [
    "len(interp_files_input.well.unique())"
   ]
  }
 ],
 "metadata": {
  "kernelspec": {
   "display_name": "Python 3",
   "language": "python",
   "name": "python3"
  },
  "language_info": {
   "codemirror_mode": {
    "name": "ipython",
    "version": 3
   },
   "file_extension": ".py",
   "mimetype": "text/x-python",
   "name": "python",
   "nbconvert_exporter": "python",
   "pygments_lexer": "ipython3",
   "version": "3.11.5"
  }
 },
 "nbformat": 4,
 "nbformat_minor": 2
}
