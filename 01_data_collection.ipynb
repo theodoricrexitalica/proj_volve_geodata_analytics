{
 "cells": [
  {
   "cell_type": "markdown",
   "metadata": {},
   "source": [
    "# Libs"
   ]
  },
  {
   "cell_type": "code",
   "execution_count": 32,
   "metadata": {},
   "outputs": [],
   "source": [
    "import warnings\n",
    "warnings.filterwarnings('ignore', category=DeprecationWarning)\n",
    "\n",
    "import pandas as pd\n",
    "import numpy as np\n",
    "import matplotlib.pyplot as plt\n",
    "import seaborn as sns\n",
    "from tqdm import tqdm\n",
    "\n",
    "import os\n",
    "import glob\n",
    "import lasio\n",
    "import dlisio as dlis\n",
    "\n",
    "pd.options.display.max_columns = 10\n",
    "pd.options.display.precision = 5\n",
    "pd.options.display.max_colwidth = 30\n",
    "pd.options.display.max_rows = 6"
   ]
  },
  {
   "cell_type": "markdown",
   "metadata": {},
   "source": [
    "# Search of las & dlis files"
   ]
  },
  {
   "cell_type": "code",
   "execution_count": 3,
   "metadata": {},
   "outputs": [
    {
     "data": {
      "text/plain": [
       "array(['05.PETROPHYSICAL INTERPRETATION', '06.LFP', '13.GEOCHEM',\n",
       "       '04.COMPOSITE', '03.PRESSURE', '02.LWD_EWL', '01.MUD_LOG',\n",
       "       '10.PRODUCTION LOGS', '11. INTEGRITY LOGS', '07.IMAGE',\n",
       "       '08.VSP_VELOCITY', '12.BIOSTRAT'], dtype=object)"
      ]
     },
     "execution_count": 3,
     "metadata": {},
     "output_type": "execute_result"
    }
   ],
   "source": [
    "# Search in which directories exist las/dlis files\n",
    "root_folder = r'C:\\jupyter\\proj_volve_geodata_analytics\\Well_logs_pr_WELL'\n",
    "las_files = []\n",
    "\n",
    "for dirpath, dirnames, filenames in os.walk(root_folder):\n",
    "    for filename in filenames:\n",
    "        if filename.endswith('.las'):\n",
    "            las_files.append(os.path.join(dirpath, filename))\n",
    "        if filename.endswith('.LAS'):\n",
    "            las_files.append(os.path.join(dirpath, filename))\n",
    "        if filename.endswith('.dlis'):\n",
    "            las_files.append(os.path.join(dirpath, filename))\n",
    "        if filename.endswith('.DLIS'):\n",
    "            las_files.append(os.path.join(dirpath, filename))\n",
    "\n",
    "df_lst = []\n",
    "for las_file in las_files:\n",
    "    df_files = pd.DataFrame((las_file.split('\\\\')[4:])).T\n",
    "    df_lst.append(df_files)\n",
    "df_files = pd.concat(df_lst).reset_index(drop=True)\n",
    "df_files.columns = ['well','folder','path_1', 'path_2']\n",
    "df_files.sort_values(by='well', inplace=True)\n",
    "df_files.folder.unique()"
   ]
  },
  {
   "cell_type": "code",
   "execution_count": 26,
   "metadata": {},
   "outputs": [
    {
     "data": {
      "text/html": [
       "<div>\n",
       "<style scoped>\n",
       "    .dataframe tbody tr th:only-of-type {\n",
       "        vertical-align: middle;\n",
       "    }\n",
       "\n",
       "    .dataframe tbody tr th {\n",
       "        vertical-align: top;\n",
       "    }\n",
       "\n",
       "    .dataframe thead th {\n",
       "        text-align: right;\n",
       "    }\n",
       "</style>\n",
       "<table border=\"1\" class=\"dataframe\">\n",
       "  <thead>\n",
       "    <tr style=\"text-align: right;\">\n",
       "      <th></th>\n",
       "      <th>well</th>\n",
       "      <th>folder</th>\n",
       "      <th>path_1</th>\n",
       "      <th>path_2</th>\n",
       "    </tr>\n",
       "  </thead>\n",
       "  <tbody>\n",
       "    <tr>\n",
       "      <th>0</th>\n",
       "      <td>15_9-F-1</td>\n",
       "      <td>05.PETROPHYSICAL INTERPRET...</td>\n",
       "      <td>WLC_PETRO_COMPUTED_OUTPUT_...</td>\n",
       "      <td>NaN</td>\n",
       "    </tr>\n",
       "    <tr>\n",
       "      <th>1</th>\n",
       "      <td>15_9-F-1</td>\n",
       "      <td>05.PETROPHYSICAL INTERPRET...</td>\n",
       "      <td>WLC_PETRO_COMPUTED_INPUT_1...</td>\n",
       "      <td>NaN</td>\n",
       "    </tr>\n",
       "    <tr>\n",
       "      <th>2</th>\n",
       "      <td>15_9-F-1 A</td>\n",
       "      <td>05.PETROPHYSICAL INTERPRET...</td>\n",
       "      <td>WLC_PETRO_COMPUTED_INPUT_1...</td>\n",
       "      <td>NaN</td>\n",
       "    </tr>\n",
       "    <tr>\n",
       "      <th>...</th>\n",
       "      <td>...</td>\n",
       "      <td>...</td>\n",
       "      <td>...</td>\n",
       "      <td>...</td>\n",
       "    </tr>\n",
       "    <tr>\n",
       "      <th>32</th>\n",
       "      <td>15_9-F-4</td>\n",
       "      <td>05.PETROPHYSICAL INTERPRET...</td>\n",
       "      <td>WLC_PETRO_COMPUTED_OUTPUT_...</td>\n",
       "      <td>NaN</td>\n",
       "    </tr>\n",
       "    <tr>\n",
       "      <th>33</th>\n",
       "      <td>15_9-F-5</td>\n",
       "      <td>05.PETROPHYSICAL INTERPRET...</td>\n",
       "      <td>WLC_PETRO_COMPUTED_OUTPUT_...</td>\n",
       "      <td>NaN</td>\n",
       "    </tr>\n",
       "    <tr>\n",
       "      <th>34</th>\n",
       "      <td>15_9-F-5</td>\n",
       "      <td>05.PETROPHYSICAL INTERPRET...</td>\n",
       "      <td>WLC_PETRO_COMPUTED_INPUT_1...</td>\n",
       "      <td>NaN</td>\n",
       "    </tr>\n",
       "  </tbody>\n",
       "</table>\n",
       "<p>35 rows × 4 columns</p>\n",
       "</div>"
      ],
      "text/plain": [
       "          well                         folder                         path_1  \\\n",
       "0     15_9-F-1  05.PETROPHYSICAL INTERPRET...  WLC_PETRO_COMPUTED_OUTPUT_...   \n",
       "1     15_9-F-1  05.PETROPHYSICAL INTERPRET...  WLC_PETRO_COMPUTED_INPUT_1...   \n",
       "2   15_9-F-1 A  05.PETROPHYSICAL INTERPRET...  WLC_PETRO_COMPUTED_INPUT_1...   \n",
       "..         ...                            ...                            ...   \n",
       "32    15_9-F-4  05.PETROPHYSICAL INTERPRET...  WLC_PETRO_COMPUTED_OUTPUT_...   \n",
       "33    15_9-F-5  05.PETROPHYSICAL INTERPRET...  WLC_PETRO_COMPUTED_OUTPUT_...   \n",
       "34    15_9-F-5  05.PETROPHYSICAL INTERPRET...  WLC_PETRO_COMPUTED_INPUT_1...   \n",
       "\n",
       "   path_2  \n",
       "0     NaN  \n",
       "1     NaN  \n",
       "2     NaN  \n",
       "..    ...  \n",
       "32    NaN  \n",
       "33    NaN  \n",
       "34    NaN  \n",
       "\n",
       "[35 rows x 4 columns]"
      ]
     },
     "execution_count": 26,
     "metadata": {},
     "output_type": "execute_result"
    }
   ],
   "source": [
    "# Folders with las files in CPI folder and in PETROPHYSICAL INTERPRETATION folder\n",
    "cpi_files = df_files[(df_files.folder == '05.PETROPHYSICAL INTERPRETATION') & \n",
    "                     (df_files.path_1 == 'CPI')].reset_index(drop=True)\n",
    "interp_files = df_files[(df_files.folder == '05.PETROPHYSICAL INTERPRETATION') & \n",
    "                        (df_files.path_1 != 'CPI') & (df_files.path_2.isna())].reset_index(drop=True)\n",
    "pp_files_wells = np.hstack((cpi_files.well.unique(), interp_files.well.unique()))\n",
    "interp_files"
   ]
  },
  {
   "cell_type": "code",
   "execution_count": 28,
   "metadata": {},
   "outputs": [
    {
     "data": {
      "text/plain": [
       "array(['15_9-F-7', '15_9-F-9', '15_9-F-9 A'], dtype=object)"
      ]
     },
     "metadata": {},
     "output_type": "display_data"
    },
    {
     "data": {
      "text/html": [
       "<div>\n",
       "<style scoped>\n",
       "    .dataframe tbody tr th:only-of-type {\n",
       "        vertical-align: middle;\n",
       "    }\n",
       "\n",
       "    .dataframe tbody tr th {\n",
       "        vertical-align: top;\n",
       "    }\n",
       "\n",
       "    .dataframe thead th {\n",
       "        text-align: right;\n",
       "    }\n",
       "</style>\n",
       "<table border=\"1\" class=\"dataframe\">\n",
       "  <thead>\n",
       "    <tr style=\"text-align: right;\">\n",
       "      <th></th>\n",
       "      <th>well</th>\n",
       "      <th>folder</th>\n",
       "      <th>path_1</th>\n",
       "      <th>path_2</th>\n",
       "    </tr>\n",
       "  </thead>\n",
       "  <tbody>\n",
       "    <tr>\n",
       "      <th>0</th>\n",
       "      <td>15_9-F-7</td>\n",
       "      <td>02.LWD_EWL</td>\n",
       "      <td>WL_RAW_GR-REMP_MWD_1.DLIS</td>\n",
       "      <td>NaN</td>\n",
       "    </tr>\n",
       "    <tr>\n",
       "      <th>1</th>\n",
       "      <td>15_9-F-7</td>\n",
       "      <td>04.COMPOSITE</td>\n",
       "      <td>WLC_PETROPHYSICAL_COMPOSIT...</td>\n",
       "      <td>NaN</td>\n",
       "    </tr>\n",
       "    <tr>\n",
       "      <th>2</th>\n",
       "      <td>15_9-F-7</td>\n",
       "      <td>02.LWD_EWL</td>\n",
       "      <td>WL_RAW_GR_MWD_1.DLIS</td>\n",
       "      <td>NaN</td>\n",
       "    </tr>\n",
       "    <tr>\n",
       "      <th>...</th>\n",
       "      <td>...</td>\n",
       "      <td>...</td>\n",
       "      <td>...</td>\n",
       "      <td>...</td>\n",
       "    </tr>\n",
       "    <tr>\n",
       "      <th>20</th>\n",
       "      <td>15_9-F-9 A</td>\n",
       "      <td>02.LWD_EWL</td>\n",
       "      <td>WL_RAW_GR-REMP_MWD_1.DLIS</td>\n",
       "      <td>NaN</td>\n",
       "    </tr>\n",
       "    <tr>\n",
       "      <th>21</th>\n",
       "      <td>15_9-F-9 A</td>\n",
       "      <td>02.LWD_EWL</td>\n",
       "      <td>WL_RAW_GR_MWD_1.DLIS</td>\n",
       "      <td>NaN</td>\n",
       "    </tr>\n",
       "    <tr>\n",
       "      <th>22</th>\n",
       "      <td>15_9-F-9 A</td>\n",
       "      <td>04.COMPOSITE</td>\n",
       "      <td>WLC_PETROPHYSICAL_COMPOSIT...</td>\n",
       "      <td>NaN</td>\n",
       "    </tr>\n",
       "  </tbody>\n",
       "</table>\n",
       "<p>23 rows × 4 columns</p>\n",
       "</div>"
      ],
      "text/plain": [
       "          well        folder                         path_1 path_2\n",
       "0     15_9-F-7    02.LWD_EWL      WL_RAW_GR-REMP_MWD_1.DLIS    NaN\n",
       "1     15_9-F-7  04.COMPOSITE  WLC_PETROPHYSICAL_COMPOSIT...    NaN\n",
       "2     15_9-F-7    02.LWD_EWL           WL_RAW_GR_MWD_1.DLIS    NaN\n",
       "..         ...           ...                            ...    ...\n",
       "20  15_9-F-9 A    02.LWD_EWL      WL_RAW_GR-REMP_MWD_1.DLIS    NaN\n",
       "21  15_9-F-9 A    02.LWD_EWL           WL_RAW_GR_MWD_1.DLIS    NaN\n",
       "22  15_9-F-9 A  04.COMPOSITE  WLC_PETROPHYSICAL_COMPOSIT...    NaN\n",
       "\n",
       "[23 rows x 4 columns]"
      ]
     },
     "execution_count": 28,
     "metadata": {},
     "output_type": "execute_result"
    }
   ],
   "source": [
    "# Folders with dlis files\n",
    "one_more_files = df_files[~df_files.well.isin(pp_files_wells)].reset_index(drop=True)\n",
    "display(one_more_files.well.unique())\n",
    "one_more_files"
   ]
  },
  {
   "cell_type": "code",
   "execution_count": 29,
   "metadata": {},
   "outputs": [
    {
     "data": {
      "text/html": [
       "<div>\n",
       "<style scoped>\n",
       "    .dataframe tbody tr th:only-of-type {\n",
       "        vertical-align: middle;\n",
       "    }\n",
       "\n",
       "    .dataframe tbody tr th {\n",
       "        vertical-align: top;\n",
       "    }\n",
       "\n",
       "    .dataframe thead th {\n",
       "        text-align: right;\n",
       "    }\n",
       "</style>\n",
       "<table border=\"1\" class=\"dataframe\">\n",
       "  <thead>\n",
       "    <tr style=\"text-align: right;\">\n",
       "      <th></th>\n",
       "      <th>well</th>\n",
       "      <th>folder</th>\n",
       "      <th>path_1</th>\n",
       "      <th>path_2</th>\n",
       "    </tr>\n",
       "  </thead>\n",
       "  <tbody>\n",
       "    <tr>\n",
       "      <th>1</th>\n",
       "      <td>15_9-F-7</td>\n",
       "      <td>04.COMPOSITE</td>\n",
       "      <td>WLC_PETROPHYSICAL_COMPOSIT...</td>\n",
       "      <td>NaN</td>\n",
       "    </tr>\n",
       "    <tr>\n",
       "      <th>9</th>\n",
       "      <td>15_9-F-9</td>\n",
       "      <td>04.COMPOSITE</td>\n",
       "      <td>WLC_PETROPHYSICAL_COMPOSIT...</td>\n",
       "      <td>NaN</td>\n",
       "    </tr>\n",
       "    <tr>\n",
       "      <th>22</th>\n",
       "      <td>15_9-F-9 A</td>\n",
       "      <td>04.COMPOSITE</td>\n",
       "      <td>WLC_PETROPHYSICAL_COMPOSIT...</td>\n",
       "      <td>NaN</td>\n",
       "    </tr>\n",
       "  </tbody>\n",
       "</table>\n",
       "</div>"
      ],
      "text/plain": [
       "          well        folder                         path_1 path_2\n",
       "1     15_9-F-7  04.COMPOSITE  WLC_PETROPHYSICAL_COMPOSIT...    NaN\n",
       "9     15_9-F-9  04.COMPOSITE  WLC_PETROPHYSICAL_COMPOSIT...    NaN\n",
       "22  15_9-F-9 A  04.COMPOSITE  WLC_PETROPHYSICAL_COMPOSIT...    NaN"
      ]
     },
     "execution_count": 29,
     "metadata": {},
     "output_type": "execute_result"
    }
   ],
   "source": [
    "# Displaying dlis files related to petrophysic \n",
    "one_more_files[one_more_files.path_1.str.contains('PETROPHYSICAL_COMPOSITE')]"
   ]
  },
  {
   "cell_type": "markdown",
   "metadata": {},
   "source": [
    "## Reading las-files for Exploration (CPI) wells"
   ]
  },
  {
   "cell_type": "code",
   "execution_count": 35,
   "metadata": {},
   "outputs": [
    {
     "name": "stderr",
     "output_type": "stream",
     "text": [
      "Only engine='normal' can read wrapped files\n"
     ]
    },
    {
     "data": {
      "text/plain": [
       "Index(['WELL', 'DEPTH', 'BS', 'BVW', 'CARB_FLAG', 'COAL_FLAG', 'DELTA',\n",
       "       'GRMAX', 'GRMIN', 'J', 'KLHC_INT', 'KLOGH', 'M', 'N', 'PERF_FLAG',\n",
       "       'PHIF', 'PORD', 'RHOFL', 'RHOMA', 'RW', 'SAND_FLAG', 'SW', 'SWIRR',\n",
       "       'TEMP', 'VSH', 'KLOGV', 'BWV', 'DT'],\n",
       "      dtype='object')"
      ]
     },
     "execution_count": 35,
     "metadata": {},
     "output_type": "execute_result"
    }
   ],
   "source": [
    "# Las files for Exploration wells probable with PP evaluation without input wireline logs\n",
    "las_data = []\n",
    "for i in range(len(cpi_files)):\n",
    "    full_path = os.path.join(root_folder, cpi_files.well[i], cpi_files.folder[i], cpi_files.path_1[i], cpi_files.path_2[i])\n",
    "    las = lasio.read(full_path)\n",
    "    df = las.df()\n",
    "    df['WELL'] = cpi_files.well[i]\n",
    "    las_data.append(df)\n",
    "cpi_data = pd.concat(las_data).reset_index()\n",
    "cpi_data = cpi_data[['WELL', 'DEPTH', 'BS', 'BVW', 'CARB_FLAG', 'COAL_FLAG', 'DELTA', 'GRMAX',\n",
    "                    'GRMIN', 'J', 'KLHC_INT', 'KLOGH', 'M', 'N', 'PERF_FLAG', 'PHIF',\n",
    "                    'PORD', 'RHOFL', 'RHOMA', 'RW', 'SAND_FLAG', 'SW', 'SWIRR', 'TEMP',\n",
    "                    'VSH',  'KLOGV', 'BWV', 'DT']]\n",
    "cpi_data.columns"
   ]
  },
  {
   "cell_type": "markdown",
   "metadata": {},
   "source": [
    "## Las-files with input & output data"
   ]
  },
  {
   "cell_type": "code",
   "execution_count": 46,
   "metadata": {},
   "outputs": [],
   "source": [
    "# Making up df with input and output pathes\n",
    "interp_files_input = []\n",
    "interp_files_output = []\n",
    "for idx, row in interp_files.iterrows():\n",
    "    if 'INPUT' in row['path_1']:\n",
    "        interp_files_input.append(interp_files.iloc[idx])\n",
    "    if 'OUTPUT' in row['path_1']:\n",
    "        interp_files_output.append(interp_files.iloc[idx])\n",
    "df_interp_files_input = pd.DataFrame(interp_files_input).reset_index(drop=True)\n",
    "df_interp_files_output = pd.DataFrame(interp_files_output).reset_index(drop=True)"
   ]
  },
  {
   "cell_type": "code",
   "execution_count": 52,
   "metadata": {},
   "outputs": [
    {
     "name": "stderr",
     "output_type": "stream",
     "text": [
      "100%|██████████| 18/18 [00:04<00:00,  3.70it/s]\n"
     ]
    }
   ],
   "source": [
    "# Reading las files for prod/inject wells\n",
    "las_data = []\n",
    "las_file_err = []\n",
    "for i in tqdm(range(len(interp_files_input))):\n",
    "    full_path = os.path.join(root_folder,   df_interp_files_input.well[i], \n",
    "                                            df_interp_files_input.folder[i], \n",
    "                                            df_interp_files_input.path_1[i])\n",
    "    if 'las' in full_path or 'LAS' in full_path:\n",
    "        las = lasio.read(full_path)\n",
    "        df = las.df()\n",
    "        df['WELL'] = df_interp_files_input.well[i]\n",
    "        las_data.append(df)\n",
    "    else:\n",
    "        las_file_err.append(full_path)\n",
    "interp_logs_input = pd.concat(las_data).reset_index()\n",
    "interp_logs_input = interp_logs_input[[ 'WELL', 'DEPTH', 'BS', 'CALI', 'GR',  \n",
    "                                        'RHOB', 'DRHO', 'PEF', 'NPHI', 'RT', 'DT', 'DTS',  'RS', 'RM', 'RD', \n",
    "                                         'ROP', 'ROP5_RM', 'CARB_FLAG', 'COAL_FLAG', 'SAND_FLAG',   \n",
    "                                         'ABDCQF01', 'ABDCQF02', 'ABDCQF03', 'ABDCQF04',\n",
    "                                         'NBGRCFM','RACEHM', 'RACELM', 'RPCEHM', 'RPCELM']]"
   ]
  },
  {
   "cell_type": "code",
   "execution_count": 54,
   "metadata": {},
   "outputs": [
    {
     "data": {
      "text/plain": [
       "['C:\\\\jupyter\\\\proj_volve_geodata_analytics\\\\Well_logs_pr_WELL\\\\15_9-F-10\\\\05.PETROPHYSICAL INTERPRETATION\\\\WLC_PETRO_COMPUTED_INPUT_1.DLIS',\n",
       " 'C:\\\\jupyter\\\\proj_volve_geodata_analytics\\\\Well_logs_pr_WELL\\\\15_9-F-14\\\\05.PETROPHYSICAL INTERPRETATION\\\\WLC_PETRO_COMPUTED_INPUT_1.DLIS',\n",
       " 'C:\\\\jupyter\\\\proj_volve_geodata_analytics\\\\Well_logs_pr_WELL\\\\15_9-F-15\\\\05.PETROPHYSICAL INTERPRETATION\\\\WLC_PETRO_COMPUTED_INPUT_1.DLIS',\n",
       " 'C:\\\\jupyter\\\\proj_volve_geodata_analytics\\\\Well_logs_pr_WELL\\\\15_9-F-15 A\\\\05.PETROPHYSICAL INTERPRETATION\\\\WLC_PETRO_COMPUTED_INPUT_1.DLIS',\n",
       " 'C:\\\\jupyter\\\\proj_volve_geodata_analytics\\\\Well_logs_pr_WELL\\\\15_9-F-15 B\\\\05.PETROPHYSICAL INTERPRETATION\\\\WLC_PETRO_COMPUTED_INPUT_1.DLIS',\n",
       " 'C:\\\\jupyter\\\\proj_volve_geodata_analytics\\\\Well_logs_pr_WELL\\\\15_9-F-15 C\\\\05.PETROPHYSICAL INTERPRETATION\\\\WLC_PETRO_COMPUTED_INPUT_1.DLIS',\n",
       " 'C:\\\\jupyter\\\\proj_volve_geodata_analytics\\\\Well_logs_pr_WELL\\\\15_9-F-4\\\\05.PETROPHYSICAL INTERPRETATION\\\\WLC_PETRO_COMPUTED_INPUT_1.DLIS',\n",
       " 'C:\\\\jupyter\\\\proj_volve_geodata_analytics\\\\Well_logs_pr_WELL\\\\15_9-F-5\\\\05.PETROPHYSICAL INTERPRETATION\\\\WLC_PETRO_COMPUTED_INPUT_1.DLIS']"
      ]
     },
     "execution_count": 54,
     "metadata": {},
     "output_type": "execute_result"
    }
   ],
   "source": [
    "# Leave dlis files for further processing\n",
    "las_file_err"
   ]
  }
 ],
 "metadata": {
  "kernelspec": {
   "display_name": "Python 3",
   "language": "python",
   "name": "python3"
  },
  "language_info": {
   "codemirror_mode": {
    "name": "ipython",
    "version": 3
   },
   "file_extension": ".py",
   "mimetype": "text/x-python",
   "name": "python",
   "nbconvert_exporter": "python",
   "pygments_lexer": "ipython3",
   "version": "3.11.5"
  }
 },
 "nbformat": 4,
 "nbformat_minor": 2
}
